{
 "cells": [
  {
   "cell_type": "code",
   "execution_count": 60,
   "metadata": {},
   "outputs": [
    {
     "name": "stdout",
     "output_type": "stream",
     "text": [
      "5\n",
      "10\n"
     ]
    },
    {
     "data": {
      "text/plain": [
       "15.0"
      ]
     },
     "execution_count": 60,
     "metadata": {},
     "output_type": "execute_result"
    }
   ],
   "source": [
    "#def add(a,b):\n",
    "   # return a+b\n",
    "#add(2,3)\n",
    "#wrong\n",
    "a=float(input()) # Take a Number\n",
    "b=float(input()) # An other one \n",
    "ADD=lambda a,b:a+b #Add a and b Number Using lambda \n",
    "ADD(a,b)           # call lambda fun()\n"
   ]
  },
  {
   "cell_type": "code",
   "execution_count": 61,
   "metadata": {
    "scrolled": false
   },
   "outputs": [
    {
     "name": "stdout",
     "output_type": "stream",
     "text": [
      "2\n",
      "3\n",
      "5\n",
      "7\n",
      "11\n",
      "13\n",
      "17\n",
      "19\n",
      "23\n",
      "29\n",
      "31\n",
      "37\n",
      "41\n",
      "43\n",
      "47\n",
      "53\n",
      "59\n",
      "61\n",
      "67\n",
      "71\n",
      "73\n",
      "79\n",
      "83\n",
      "89\n",
      "97\n"
     ]
    }
   ],
   "source": [
    "# Find the prime Number b/w 1 to 100\n",
    "for num in range(1,101): # iterate the num b/w 1 to 100\n",
    "    if num > 1:          # check the num\n",
    "        for i in range(2,num): # remove even number from num \n",
    "            if (num % i )==0:  # Again check, num is divisble by remaining numbers .and remainder should be 0\n",
    "                break\n",
    "        else:\n",
    "            print(num) #print the num"
   ]
  },
  {
   "cell_type": "code",
   "execution_count": 17,
   "metadata": {
    "scrolled": true
   },
   "outputs": [
    {
     "name": "stdout",
     "output_type": "stream",
     "text": [
      "[1, 3, 5, 7, 9, 11, 13, 15, 17, 19, 21, 23, 25, 27, 29, 31, 33, 35, 37, 39, 41, 43, 45, 47, 49, 51, 53, 55, 57, 59, 61, 63, 65, 67, 69, 71, 73, 75, 77, 79, 81, 83, 85, 87, 89, 91, 93, 95, 97, 99]\n"
     ]
    }
   ],
   "source": [
    "# find odd number b/w 1 to 100 using list compre..\n",
    "B=[Num for Num in range(1,101) if Num % 2==1]\n",
    "print(B)"
   ]
  },
  {
   "cell_type": "code",
   "execution_count": 63,
   "metadata": {},
   "outputs": [
    {
     "name": "stdout",
     "output_type": "stream",
     "text": [
      "[ 0.52757521  0.21835131  0.88782821  0.96315972  0.71262536  0.33168848\n",
      "  0.20696335  0.99376545  0.81467696  0.74599281  0.26469915  0.01916209\n",
      "  0.21554059  0.06514628  0.42370856  0.46799994  0.34454473  0.70259033\n",
      "  0.96838526  0.82590752]\n"
     ]
    }
   ],
   "source": [
    "# Take the random number & find the mean, median, cumulative sum \n",
    "import numpy as np # import numpy\n",
    "random_numbers=np.random.random(20) #take a varialble & random number \n",
    "print(random_numbers)"
   ]
  },
  {
   "cell_type": "code",
   "execution_count": 64,
   "metadata": {},
   "outputs": [
    {
     "name": "stdout",
     "output_type": "stream",
     "text": [
      "0.535015564855\n",
      "0.497787575899\n",
      "[  0.52757521   0.74592652   1.63375473   2.59691445   3.30953981\n",
      "   3.64122828   3.84819163   4.84195708   5.65663405   6.40262686\n",
      "   6.66732601   6.6864881    6.90202869   6.96717497   7.39088353\n",
      "   7.85888347   8.20342819   8.90601852   9.87440377  10.7003113 ]\n"
     ]
    }
   ],
   "source": [
    "mean_=np.mean(random_numbers) # mean\n",
    "print(mean_)\n",
    "median_=np.median(random_numbers) # median \n",
    "print(median_)\n",
    "cum_sum=np.cumsum(random_numbers) # cumulative sum \n",
    "print(cum_sum)"
   ]
  },
  {
   "cell_type": "code",
   "execution_count": 65,
   "metadata": {},
   "outputs": [
    {
     "name": "stdout",
     "output_type": "stream",
     "text": [
      "it's First array :\n",
      " [[0 1 2]\n",
      " [3 4 5]\n",
      " [6 7 8]]\n",
      "it's Second array :\n",
      " [[10 11 12]\n",
      " [13 14 15]\n",
      " [16 17 18]]\n"
     ]
    }
   ],
   "source": [
    "# Take two array of 3*3 & and add two arrays element\n",
    "Array_1=np.arange(0,9).reshape(3,3) # it's first array of 3*3\n",
    "print(\"it's First array :\\n\",Array_1) # print(array)\n",
    "Array_2=np.arange(10,19).reshape(3,3) # it's second array \n",
    "print(\"it's Second array :\\n\",Array_2) # print(array)"
   ]
  },
  {
   "cell_type": "code",
   "execution_count": 66,
   "metadata": {},
   "outputs": [
    {
     "name": "stdout",
     "output_type": "stream",
     "text": [
      "[[10 12 14]\n",
      " [16 18 20]\n",
      " [22 24 26]]\n"
     ]
    }
   ],
   "source": [
    "Array_3=Array_1+Array_2 # ADD first and second array in new_variable/new_array \n",
    "print(Array_3) #print(new array)"
   ]
  },
  {
   "cell_type": "code",
   "execution_count": 1,
   "metadata": {},
   "outputs": [
    {
     "name": "stdout",
     "output_type": "stream",
     "text": [
      "1 \n",
      "2 2 \n",
      "3 3 3 \n",
      "4 4 4 4 \n",
      "5 5 5 5 5 \n",
      "6 6 6 6 6 6 \n",
      "7 7 7 7 7 7 7 \n",
      "8 8 8 8 8 8 8 8 \n",
      "9 9 9 9 9 9 9 9 9 \n"
     ]
    }
   ],
   "source": [
    "#print the triangle pattern   \n",
    "#    1\n",
    "#    2 2 \n",
    "#    3 3 3\n",
    "#    4 4 4 4\n",
    "#    5 5 5 5 \n",
    "#    and so... on(1,9)\n",
    "for i in range(1,10):\n",
    "    for j in range(1,i+1):\n",
    "        print(i,end=' ')\n",
    "    print()"
   ]
  },
  {
   "cell_type": "code",
   "execution_count": 2,
   "metadata": {},
   "outputs": [
    {
     "name": "stdout",
     "output_type": "stream",
     "text": [
      "* \n",
      "* * \n",
      "* * * \n",
      "* * * * \n",
      "* * * * * \n"
     ]
    }
   ],
   "source": [
    "# print the pattern \n",
    "#num=int(input(\"enter a number\")) \n",
    "num=5 #take a triangle length\n",
    "for i in range(1,num+1): # and iterate the number 1 ,till giving number\n",
    "    for j in range(1,i+1): # and iterate again iterating number\n",
    "        print(\"*\",end=\" \") # print a string \"*\" , default a newline.\n",
    "\n",
    "    print()"
   ]
  },
  {
   "cell_type": "code",
   "execution_count": 4,
   "metadata": {},
   "outputs": [
    {
     "name": "stdout",
     "output_type": "stream",
     "text": [
      "* * * * * \n",
      "* * * * \n",
      "* * * \n",
      "* * \n",
      "* \n",
      "\n"
     ]
    }
   ],
   "source": [
    "#num=int(input(\"enter a number\"))\n",
    "num=6\n",
    "for i in range(num,0,-1):  # same as first\n",
    "# But iterate number from last\n",
    "    for j in range(1,i):\n",
    "        print(\"*\",end=\" \")\n",
    "    print()"
   ]
  },
  {
   "cell_type": "code",
   "execution_count": 73,
   "metadata": {},
   "outputs": [
    {
     "name": "stdout",
     "output_type": "stream",
     "text": [
      "0 \n",
      "0 1 \n",
      "0 1 2 \n",
      "0 1 2 3 \n",
      "0 1 2 3 4 \n",
      "0 1 2 3 4 5 \n",
      "0 1 2 3 4 5 6 \n",
      "0 1 2 3 4 5 6 7 \n",
      "0 1 2 3 4 5 6 7 8 \n",
      "0 1 2 3 4 5 6 7 8 9 \n"
     ]
    }
   ],
   "source": [
    "for i in range(0,10):\n",
    "    for j in range(0,i+1):\n",
    "        print(j,end=' ')\n",
    "    print()"
   ]
  },
  {
   "cell_type": "code",
   "execution_count": 74,
   "metadata": {},
   "outputs": [
    {
     "name": "stdout",
     "output_type": "stream",
     "text": [
      "10\n",
      "9\n",
      "8\n",
      "7\n",
      "6\n",
      "5\n",
      "4\n",
      "3\n",
      "2\n",
      "1\n",
      "Done\n"
     ]
    }
   ],
   "source": [
    "import itertools\n",
    "def count(n):\n",
    "    for i in range(n,0,-1):\n",
    "        print(i)\n",
    "    print(\"Done\")\n",
    "count(10)"
   ]
  },
  {
   "cell_type": "code",
   "execution_count": 75,
   "metadata": {},
   "outputs": [
    {
     "name": "stdout",
     "output_type": "stream",
     "text": [
      "[0, 1, 3, 5, 7]\n"
     ]
    }
   ],
   "source": [
    "li=[1,1,0,3,5,7,7]\n",
    "k=list(set(li))\n",
    "print(k)\n"
   ]
  },
  {
   "cell_type": "code",
   "execution_count": 76,
   "metadata": {},
   "outputs": [
    {
     "data": {
      "text/plain": [
       "[6, 8, 10, 12, 14]"
      ]
     },
     "execution_count": 76,
     "metadata": {},
     "output_type": "execute_result"
    }
   ],
   "source": [
    "li1=[1,2,3,4,5]\n",
    "li2=[5,6,7,8,9]\n",
    "[sum(x) for x in zip(li1, li2)]\n"
   ]
  },
  {
   "cell_type": "code",
   "execution_count": 77,
   "metadata": {},
   "outputs": [
    {
     "name": "stdout",
     "output_type": "stream",
     "text": [
      "[1, 0, 3, 5, 7]\n"
     ]
    }
   ],
   "source": [
    "li=[1,1,0,3,5,7,7]\n",
    "new_li=[]\n",
    "for i in li:\n",
    "    if i not in new_li:\n",
    "        new_li.append(i)\n",
    "print(new_li)\n"
   ]
  },
  {
   "cell_type": "code",
   "execution_count": 78,
   "metadata": {},
   "outputs": [
    {
     "data": {
      "text/plain": [
       "29"
      ]
     },
     "execution_count": 78,
     "metadata": {},
     "output_type": "execute_result"
    }
   ],
   "source": [
    "s=\"How are you & How is your day\"\n",
    "len(s)"
   ]
  },
  {
   "cell_type": "code",
   "execution_count": null,
   "metadata": {
    "collapsed": true
   },
   "outputs": [],
   "source": []
  }
 ],
 "metadata": {
  "kernelspec": {
   "display_name": "Python 3",
   "language": "python",
   "name": "python3"
  },
  "language_info": {
   "codemirror_mode": {
    "name": "ipython",
    "version": 3
   },
   "file_extension": ".py",
   "mimetype": "text/x-python",
   "name": "python",
   "nbconvert_exporter": "python",
   "pygments_lexer": "ipython3",
   "version": "3.6.3"
  }
 },
 "nbformat": 4,
 "nbformat_minor": 2
}
